{
  "nbformat": 4,
  "nbformat_minor": 0,
  "metadata": {
    "colab": {
      "provenance": [],
      "authorship_tag": "ABX9TyNxNZPGbWpzh1QhReYA/BN+",
      "include_colab_link": true
    },
    "kernelspec": {
      "name": "python3",
      "display_name": "Python 3"
    },
    "language_info": {
      "name": "python"
    }
  },
  "cells": [
    {
      "cell_type": "markdown",
      "metadata": {
        "id": "view-in-github",
        "colab_type": "text"
      },
      "source": [
        "<a href=\"https://colab.research.google.com/github/ArushiSharma019/1-SimpleChatbot-/blob/main/Simple_Chatbot.ipynb\" target=\"_parent\"><img src=\"https://colab.research.google.com/assets/colab-badge.svg\" alt=\"Open In Colab\"/></a>"
      ]
    },
    {
      "cell_type": "markdown",
      "source": [
        "# **Simple Chatbot**"
      ],
      "metadata": {
        "id": "cBCUnPGVtyMn"
      }
    },
    {
      "cell_type": "code",
      "execution_count": 1,
      "metadata": {
        "id": "vbooGb0hts_G"
      },
      "outputs": [],
      "source": [
        "import nltk\n",
        "from nltk.chat.util import Chat, reflections"
      ]
    },
    {
      "cell_type": "code",
      "source": [
        "print(Chat)"
      ],
      "metadata": {
        "colab": {
          "base_uri": "https://localhost:8080/"
        },
        "id": "tbMFq-VDtxsG",
        "outputId": "b4665a18-a12d-46b3-ee74-672152ed504a"
      },
      "execution_count": 2,
      "outputs": [
        {
          "output_type": "stream",
          "name": "stdout",
          "text": [
            "<class 'nltk.chat.util.Chat'>\n"
          ]
        }
      ]
    },
    {
      "cell_type": "code",
      "source": [
        "print(reflections)"
      ],
      "metadata": {
        "colab": {
          "base_uri": "https://localhost:8080/"
        },
        "id": "Z1CfqEszttt3",
        "outputId": "47db4c6e-4ae4-4139-9519-ce7874efbc3b"
      },
      "execution_count": 3,
      "outputs": [
        {
          "output_type": "stream",
          "name": "stdout",
          "text": [
            "{'i am': 'you are', 'i was': 'you were', 'i': 'you', \"i'm\": 'you are', \"i'd\": 'you would', \"i've\": 'you have', \"i'll\": 'you will', 'my': 'your', 'you are': 'I am', 'you were': 'I was', \"you've\": 'I have', \"you'll\": 'I will', 'your': 'my', 'yours': 'mine', 'you': 'me', 'me': 'you'}\n"
          ]
        }
      ]
    },
    {
      "cell_type": "code",
      "source": [
        "def greet(self):\n",
        "        return \"Hello! I'm your friendly chatbot. How can I assist you today?\""
      ],
      "metadata": {
        "id": "KyJBhU_LuCWX"
      },
      "execution_count": 4,
      "outputs": []
    },
    {
      "cell_type": "code",
      "source": [
        "set_pairs = [\n",
        "    [\n",
        "        r\"my name is(.*)\",\n",
        "        [\"Hello %1, How are you today?\"]\n",
        "    ],\n",
        "    [\n",
        "        r\"what is your name?\",\n",
        "        [\"My name is Chatbot. How can I assist you today?\"]\n",
        "    ],\n",
        "    [\n",
        "        r\"how are you?\",\n",
        "        [\"I'm doing well, thank you! How about you?\"]\n",
        "    ],\n",
        "    [\n",
        "        r\"(.*) your name(.*)\",\n",
        "        [\"My name is Chatbot. How can I assist you today?\"]\n",
        "    ],\n",
        "    [\n",
        "        r\"what can you do?\",\n",
        "        [\"I can help you with basic tasks like answering questions and providing information. Feel free to ask me anything!\"]\n",
        "    ],\n",
        "    [\n",
        "        r\"bye\",\n",
        "        [\"Goodbye!\", \"See you later!\", \"Bye! Have a nice day!\"]\n",
        "    ],\n",
        "    [\n",
        "        r\"(.*)\",\n",
        "        [\"I'm not sure I understand. Can you please rephrase that?\"]\n",
        "    ],\n",
        "    # Add your new rules below this line\n",
        "    [\n",
        "        r\"how old are you?\",\n",
        "        [\"I don't have an age. I exist in the digital world.\"]\n",
        "    ],\n",
        "    [\n",
        "        r\"where are you from?\",\n",
        "        [\"I exist in the digital world, ready to assist you!\"]\n",
        "    ],\n",
        "    [\n",
        "        r\"what is your purpose?\",\n",
        "        [\"My purpose is to assist you with your queries and provide information.\"]\n",
        "    ]\n",
        "]\n"
      ],
      "metadata": {
        "id": "17MuVcwpuEhs"
      },
      "execution_count": 5,
      "outputs": []
    },
    {
      "cell_type": "code",
      "source": [
        "def chatbot():\n",
        "  print(\"hi i am a chatbot, what can i help u with\")\n",
        "chatbot()"
      ],
      "metadata": {
        "colab": {
          "base_uri": "https://localhost:8080/"
        },
        "id": "rjiNywvWuHhl",
        "outputId": "c7f42669-8a96-4ec5-f50e-5f4dd0730dd1"
      },
      "execution_count": 6,
      "outputs": [
        {
          "output_type": "stream",
          "name": "stdout",
          "text": [
            "hi i am a chatbot, what can i help u with\n"
          ]
        }
      ]
    },
    {
      "cell_type": "code",
      "source": [
        " def farewell(self):\n",
        "        return \"Goodbye! Have a great day.\"\n",
        "\n",
        "def ask_question(self, question):\n",
        "        return f\"Can you tell me more about {question}?\""
      ],
      "metadata": {
        "id": "_YhGOAVXuczs"
      },
      "execution_count": null,
      "outputs": []
    },
    {
      "cell_type": "code",
      "source": [
        "def handle_user_input(self, user_input):\n",
        "        if user_input.lower() == 'bye':\n",
        "            return self.farewell()\n",
        "        if 'question' in self.context:\n",
        "            response = self.respond_to_question(self.context['question'])\n",
        "            del self.context['question']\n",
        "            return response\n",
        "        if 'asking_question' in self.context:\n",
        "            self.context['question'] = user_input\n",
        "            del self.context['asking_question']\n",
        "            return \"Got it. Please go ahead and answer the previous question.\"\n",
        "        if 'previous_interaction' in self.context:\n",
        "            self.context['asking_question'] = True\n",
        "            del self.context['previous_interaction']\n",
        "            return self.ask_question(user_input)\n",
        "        return \"I'm not sure I understand. Can you please rephrase that?\""
      ],
      "metadata": {
        "id": "M77DaMiIunga"
      },
      "execution_count": null,
      "outputs": []
    },
    {
      "cell_type": "code",
      "source": [
        " def chat(self):\n",
        "        print(self.greet())\n",
        "        for _ in range(3):\n",
        "            user_input = input(\"You: \")\n",
        "            response = self.handle_user_input(user_input)\n",
        "            print(\"Bot:\", response)\n",
        "        print(self.farewell())"
      ],
      "metadata": {
        "id": "o4vk9hrKusms"
      },
      "execution_count": null,
      "outputs": []
    },
    {
      "cell_type": "code",
      "source": [
        "chat=Chat(set_pairs,reflections)\n",
        "print(chat)"
      ],
      "metadata": {
        "colab": {
          "base_uri": "https://localhost:8080/"
        },
        "id": "zofFAA-_uMz6",
        "outputId": "b7487319-a15d-4609-9c19-dc788b63e275"
      },
      "execution_count": 7,
      "outputs": [
        {
          "output_type": "stream",
          "name": "stdout",
          "text": [
            "<nltk.chat.util.Chat object at 0x789bba47dc60>\n"
          ]
        }
      ]
    },
    {
      "cell_type": "code",
      "source": [
        "chat.converse()\n",
        "if __name__ == \"__main__\":\n",
        "  chatbot()"
      ],
      "metadata": {
        "id": "XZmPfzxyuO1U"
      },
      "execution_count": null,
      "outputs": []
    }
  ]
}